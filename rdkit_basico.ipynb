{
 "cells": [
  {
   "cell_type": "code",
   "execution_count": 1,
   "id": "755188e3-699c-40a2-b0aa-d2707c343305",
   "metadata": {},
   "outputs": [],
   "source": [
    "import pandas as pd\n",
    "import numpy as np"
   ]
  },
  {
   "cell_type": "code",
   "execution_count": 2,
   "id": "bdc26865-84ff-4ebe-8548-4498a02aab28",
   "metadata": {},
   "outputs": [
    {
     "data": {
      "text/html": [
       "<div>\n",
       "<style scoped>\n",
       "    .dataframe tbody tr th:only-of-type {\n",
       "        vertical-align: middle;\n",
       "    }\n",
       "\n",
       "    .dataframe tbody tr th {\n",
       "        vertical-align: top;\n",
       "    }\n",
       "\n",
       "    .dataframe thead th {\n",
       "        text-align: right;\n",
       "    }\n",
       "</style>\n",
       "<table border=\"1\" class=\"dataframe\">\n",
       "  <thead>\n",
       "    <tr style=\"text-align: right;\">\n",
       "      <th></th>\n",
       "      <th>smiles</th>\n",
       "      <th>mw</th>\n",
       "    </tr>\n",
       "  </thead>\n",
       "  <tbody>\n",
       "    <tr>\n",
       "      <th>0</th>\n",
       "      <td>CC(=O)OC(CC(=O)[O-])C[N+](C)(C)C</td>\n",
       "      <td>203.24</td>\n",
       "    </tr>\n",
       "    <tr>\n",
       "      <th>1</th>\n",
       "      <td>CC(=O)OC(CC(=O)O)C[N+](C)(C)C</td>\n",
       "      <td>204.24</td>\n",
       "    </tr>\n",
       "    <tr>\n",
       "      <th>2</th>\n",
       "      <td>CC(CN)O</td>\n",
       "      <td>75.11</td>\n",
       "    </tr>\n",
       "    <tr>\n",
       "      <th>3</th>\n",
       "      <td>C1=CC(=C(C=C1[N+](=O)[O-])[N+](=O)[O-])Cl</td>\n",
       "      <td>202.55</td>\n",
       "    </tr>\n",
       "    <tr>\n",
       "      <th>4</th>\n",
       "      <td>CCN1C=NC2=C(N=CN=C21)N</td>\n",
       "      <td>163.18</td>\n",
       "    </tr>\n",
       "    <tr>\n",
       "      <th>5</th>\n",
       "      <td>CCC(C)(C(C(=O)O)O)O</td>\n",
       "      <td>148.16</td>\n",
       "    </tr>\n",
       "    <tr>\n",
       "      <th>6</th>\n",
       "      <td>C(CCl)Cl</td>\n",
       "      <td>98.96</td>\n",
       "    </tr>\n",
       "    <tr>\n",
       "      <th>7</th>\n",
       "      <td>C1=CC(=C(C=C1Cl)Cl)Cl</td>\n",
       "      <td>181.40</td>\n",
       "    </tr>\n",
       "    <tr>\n",
       "      <th>8</th>\n",
       "      <td>C1CCC(=O)NCCCCCC(=O)NCC1</td>\n",
       "      <td>226.32</td>\n",
       "    </tr>\n",
       "    <tr>\n",
       "      <th>9</th>\n",
       "      <td>C1C=CC(=NC1C(=O)O)C(=O)O</td>\n",
       "      <td>169.13</td>\n",
       "    </tr>\n",
       "    <tr>\n",
       "      <th>10</th>\n",
       "      <td>C(C)(C)(C)(C)C</td>\n",
       "      <td>100.00</td>\n",
       "    </tr>\n",
       "  </tbody>\n",
       "</table>\n",
       "</div>"
      ],
      "text/plain": [
       "                                       smiles      mw\n",
       "0            CC(=O)OC(CC(=O)[O-])C[N+](C)(C)C  203.24\n",
       "1               CC(=O)OC(CC(=O)O)C[N+](C)(C)C  204.24\n",
       "2                                     CC(CN)O   75.11\n",
       "3   C1=CC(=C(C=C1[N+](=O)[O-])[N+](=O)[O-])Cl  202.55\n",
       "4                      CCN1C=NC2=C(N=CN=C21)N  163.18\n",
       "5                         CCC(C)(C(C(=O)O)O)O  148.16\n",
       "6                                    C(CCl)Cl   98.96\n",
       "7                       C1=CC(=C(C=C1Cl)Cl)Cl  181.40\n",
       "8                    C1CCC(=O)NCCCCCC(=O)NCC1  226.32\n",
       "9                    C1C=CC(=NC1C(=O)O)C(=O)O  169.13\n",
       "10                             C(C)(C)(C)(C)C  100.00"
      ]
     },
     "execution_count": 2,
     "metadata": {},
     "output_type": "execute_result"
    }
   ],
   "source": [
    "df = pd.DataFrame(\n",
    "    data={\n",
    "        'smiles':[\n",
    "            'CC(=O)OC(CC(=O)[O-])C[N+](C)(C)C',\n",
    "            'CC(=O)OC(CC(=O)O)C[N+](C)(C)C',\n",
    "            'CC(CN)O',\n",
    "            'C1=CC(=C(C=C1[N+](=O)[O-])[N+](=O)[O-])Cl',\n",
    "            'CCN1C=NC2=C(N=CN=C21)N',\n",
    "            'CCC(C)(C(C(=O)O)O)O',\n",
    "            'C(CCl)Cl',\n",
    "            'C1=CC(=C(C=C1Cl)Cl)Cl',\n",
    "            'C1CCC(=O)NCCCCCC(=O)NCC1',\n",
    "            'C1C=CC(=NC1C(=O)O)C(=O)O',\n",
    "            'C(C)(C)(C)(C)C'\n",
    "        ],\n",
    "        'mw':[\n",
    "            203.24,\n",
    "            204.24,\n",
    "            75.11,\n",
    "            202.55,\n",
    "            163.18,\n",
    "            148.16,\n",
    "            98.96,\n",
    "            181.4,\n",
    "            226.32,\n",
    "            169.13,\n",
    "            100.00\n",
    "        ]\n",
    "    }\n",
    ")\n",
    "\n",
    "df"
   ]
  },
  {
   "cell_type": "markdown",
   "id": "f1e7d912-f17b-4664-9e02-c2c05f1adf9f",
   "metadata": {},
   "source": [
    "***\n",
    "\n",
    "# Visualizando moléculas"
   ]
  },
  {
   "cell_type": "code",
   "execution_count": 3,
   "id": "27e3a008-691c-4f39-83f4-44cfa7c926ff",
   "metadata": {},
   "outputs": [],
   "source": [
    "from rdkit import Chem\n",
    "from rdkit.Chem import Draw"
   ]
  },
  {
   "cell_type": "code",
   "execution_count": 4,
   "id": "15f41175-8fd0-44ca-8129-18a3b61c1f39",
   "metadata": {},
   "outputs": [
    {
     "data": {
      "image/png": "[encoded data removed]",
      "text/plain": [
       "<rdkit.Chem.rdchem.Mol at 0x255b86f2730>"
      ]
     },
     "execution_count": 4,
     "metadata": {},
     "output_type": "execute_result"
    }
   ],
   "source": [
    "mol = Chem.MolFromSmiles(df['smiles'].iloc[0])\n",
    "mol"
   ]
  },
  {
   "cell_type": "code",
   "execution_count": 5,
   "id": "e4338325-2a05-4ac4-9a7b-a5bfbf9c0349",
   "metadata": {},
   "outputs": [
    {
     "name": "stderr",
     "output_type": "stream",
     "text": [
      "[13:13:13] Explicit valence for atom # 0 C, 5, is greater than permitted\n"
     ]
    },
    {
     "data": {
      "image/png": "[encoded data removed]",
      "text/plain": [
       "<IPython.core.display.Image object>"
      ]
     },
     "execution_count": 5,
     "metadata": {},
     "output_type": "execute_result"
    }
   ],
   "source": [
    "Draw.MolsToGridImage(\n",
    "    [Chem.MolFromSmiles(mol) for mol in df['smiles']],\n",
    "    molsPerRow=5,\n",
    "    legends=[smiles for smiles in df['smiles']],\n",
    "    subImgSize=(200,200)\n",
    ")"
   ]
  },
  {
   "cell_type": "markdown",
   "id": "2a147ae3-f6b9-465e-afaf-bb7faff1ae33",
   "metadata": {},
   "source": [
    "***\n",
    "\n",
    "## Trabalhando com moléculas quimicamente impossíveis"
   ]
  },
  {
   "cell_type": "code",
   "execution_count": 6,
   "id": "98bb6b61-fff2-4839-b063-f59ceef74365",
   "metadata": {},
   "outputs": [
    {
     "name": "stdout",
     "output_type": "stream",
     "text": [
      "None\n"
     ]
    },
    {
     "name": "stderr",
     "output_type": "stream",
     "text": [
      "[13:13:13] Explicit valence for atom # 0 C, 5, is greater than permitted\n"
     ]
    }
   ],
   "source": [
    "mol_2 = Chem.MolFromSmiles(df['smiles'].iloc[-1])\n",
    "print(mol_2)"
   ]
  },
  {
   "cell_type": "markdown",
   "id": "b0495e36-7a99-4107-99ae-bb1457f3f233",
   "metadata": {},
   "source": [
    "***\n",
    "\n",
    "# Como filtrar conjuntos de dados, excluindo moléculas impossíveis?"
   ]
  },
  {
   "cell_type": "code",
   "execution_count": 7,
   "id": "86535c86-e08c-47b3-84ab-a45a8da6b78a",
   "metadata": {},
   "outputs": [
    {
     "name": "stderr",
     "output_type": "stream",
     "text": [
      "[13:13:13] Explicit valence for atom # 0 C, 5, is greater than permitted\n"
     ]
    },
    {
     "data": {
      "text/html": [
       "<div>\n",
       "<style scoped>\n",
       "    .dataframe tbody tr th:only-of-type {\n",
       "        vertical-align: middle;\n",
       "    }\n",
       "\n",
       "    .dataframe tbody tr th {\n",
       "        vertical-align: top;\n",
       "    }\n",
       "\n",
       "    .dataframe thead th {\n",
       "        text-align: right;\n",
       "    }\n",
       "</style>\n",
       "<table border=\"1\" class=\"dataframe\">\n",
       "  <thead>\n",
       "    <tr style=\"text-align: right;\">\n",
       "      <th></th>\n",
       "      <th>smiles</th>\n",
       "      <th>mw</th>\n",
       "      <th>mol</th>\n",
       "    </tr>\n",
       "  </thead>\n",
       "  <tbody>\n",
       "    <tr>\n",
       "      <th>0</th>\n",
       "      <td>CC(=O)OC(CC(=O)[O-])C[N+](C)(C)C</td>\n",
       "      <td>203.24</td>\n",
       "      <td>&lt;rdkit.Chem.rdchem.Mol object at 0x00000255B86...</td>\n",
       "    </tr>\n",
       "    <tr>\n",
       "      <th>1</th>\n",
       "      <td>CC(=O)OC(CC(=O)O)C[N+](C)(C)C</td>\n",
       "      <td>204.24</td>\n",
       "      <td>&lt;rdkit.Chem.rdchem.Mol object at 0x00000255B86...</td>\n",
       "    </tr>\n",
       "    <tr>\n",
       "      <th>2</th>\n",
       "      <td>CC(CN)O</td>\n",
       "      <td>75.11</td>\n",
       "      <td>&lt;rdkit.Chem.rdchem.Mol object at 0x00000255B86...</td>\n",
       "    </tr>\n",
       "    <tr>\n",
       "      <th>3</th>\n",
       "      <td>C1=CC(=C(C=C1[N+](=O)[O-])[N+](=O)[O-])Cl</td>\n",
       "      <td>202.55</td>\n",
       "      <td>&lt;rdkit.Chem.rdchem.Mol object at 0x00000255B86...</td>\n",
       "    </tr>\n",
       "    <tr>\n",
       "      <th>4</th>\n",
       "      <td>CCN1C=NC2=C(N=CN=C21)N</td>\n",
       "      <td>163.18</td>\n",
       "      <td>&lt;rdkit.Chem.rdchem.Mol object at 0x00000255B86...</td>\n",
       "    </tr>\n",
       "    <tr>\n",
       "      <th>5</th>\n",
       "      <td>CCC(C)(C(C(=O)O)O)O</td>\n",
       "      <td>148.16</td>\n",
       "      <td>&lt;rdkit.Chem.rdchem.Mol object at 0x00000255B86...</td>\n",
       "    </tr>\n",
       "    <tr>\n",
       "      <th>6</th>\n",
       "      <td>C(CCl)Cl</td>\n",
       "      <td>98.96</td>\n",
       "      <td>&lt;rdkit.Chem.rdchem.Mol object at 0x00000255B86...</td>\n",
       "    </tr>\n",
       "    <tr>\n",
       "      <th>7</th>\n",
       "      <td>C1=CC(=C(C=C1Cl)Cl)Cl</td>\n",
       "      <td>181.40</td>\n",
       "      <td>&lt;rdkit.Chem.rdchem.Mol object at 0x00000255B86...</td>\n",
       "    </tr>\n",
       "    <tr>\n",
       "      <th>8</th>\n",
       "      <td>C1CCC(=O)NCCCCCC(=O)NCC1</td>\n",
       "      <td>226.32</td>\n",
       "      <td>&lt;rdkit.Chem.rdchem.Mol object at 0x00000255B86...</td>\n",
       "    </tr>\n",
       "    <tr>\n",
       "      <th>9</th>\n",
       "      <td>C1C=CC(=NC1C(=O)O)C(=O)O</td>\n",
       "      <td>169.13</td>\n",
       "      <td>&lt;rdkit.Chem.rdchem.Mol object at 0x00000255B86...</td>\n",
       "    </tr>\n",
       "    <tr>\n",
       "      <th>10</th>\n",
       "      <td>C(C)(C)(C)(C)C</td>\n",
       "      <td>100.00</td>\n",
       "      <td>None</td>\n",
       "    </tr>\n",
       "  </tbody>\n",
       "</table>\n",
       "</div>"
      ],
      "text/plain": [
       "                                       smiles      mw  \\\n",
       "0            CC(=O)OC(CC(=O)[O-])C[N+](C)(C)C  203.24   \n",
       "1               CC(=O)OC(CC(=O)O)C[N+](C)(C)C  204.24   \n",
       "2                                     CC(CN)O   75.11   \n",
       "3   C1=CC(=C(C=C1[N+](=O)[O-])[N+](=O)[O-])Cl  202.55   \n",
       "4                      CCN1C=NC2=C(N=CN=C21)N  163.18   \n",
       "5                         CCC(C)(C(C(=O)O)O)O  148.16   \n",
       "6                                    C(CCl)Cl   98.96   \n",
       "7                       C1=CC(=C(C=C1Cl)Cl)Cl  181.40   \n",
       "8                    C1CCC(=O)NCCCCCC(=O)NCC1  226.32   \n",
       "9                    C1C=CC(=NC1C(=O)O)C(=O)O  169.13   \n",
       "10                             C(C)(C)(C)(C)C  100.00   \n",
       "\n",
       "                                                  mol  \n",
       "0   <rdkit.Chem.rdchem.Mol object at 0x00000255B86...  \n",
       "1   <rdkit.Chem.rdchem.Mol object at 0x00000255B86...  \n",
       "2   <rdkit.Chem.rdchem.Mol object at 0x00000255B86...  \n",
       "3   <rdkit.Chem.rdchem.Mol object at 0x00000255B86...  \n",
       "4   <rdkit.Chem.rdchem.Mol object at 0x00000255B86...  \n",
       "5   <rdkit.Chem.rdchem.Mol object at 0x00000255B86...  \n",
       "6   <rdkit.Chem.rdchem.Mol object at 0x00000255B86...  \n",
       "7   <rdkit.Chem.rdchem.Mol object at 0x00000255B86...  \n",
       "8   <rdkit.Chem.rdchem.Mol object at 0x00000255B86...  \n",
       "9   <rdkit.Chem.rdchem.Mol object at 0x00000255B86...  \n",
       "10                                               None  "
      ]
     },
     "execution_count": 7,
     "metadata": {},
     "output_type": "execute_result"
    }
   ],
   "source": [
    "def rdkit_mol(smile: str):\n",
    "    return Chem.MolFromSmiles(smile)\n",
    "\n",
    "df['mol'] = df['smiles'].apply(rdkit_mol)\n",
    "df"
   ]
  },
  {
   "cell_type": "code",
   "execution_count": 8,
   "id": "a9ae1113-1726-4a02-a158-055a672dd5b5",
   "metadata": {},
   "outputs": [
    {
     "data": {
      "text/html": [
       "<div>\n",
       "<style scoped>\n",
       "    .dataframe tbody tr th:only-of-type {\n",
       "        vertical-align: middle;\n",
       "    }\n",
       "\n",
       "    .dataframe tbody tr th {\n",
       "        vertical-align: top;\n",
       "    }\n",
       "\n",
       "    .dataframe thead th {\n",
       "        text-align: right;\n",
       "    }\n",
       "</style>\n",
       "<table border=\"1\" class=\"dataframe\">\n",
       "  <thead>\n",
       "    <tr style=\"text-align: right;\">\n",
       "      <th></th>\n",
       "      <th>smiles</th>\n",
       "      <th>mw</th>\n",
       "      <th>mol</th>\n",
       "    </tr>\n",
       "  </thead>\n",
       "  <tbody>\n",
       "    <tr>\n",
       "      <th>0</th>\n",
       "      <td>CC(=O)OC(CC(=O)[O-])C[N+](C)(C)C</td>\n",
       "      <td>203.24</td>\n",
       "      <td>&lt;rdkit.Chem.rdchem.Mol object at 0x00000255B86...</td>\n",
       "    </tr>\n",
       "    <tr>\n",
       "      <th>1</th>\n",
       "      <td>CC(=O)OC(CC(=O)O)C[N+](C)(C)C</td>\n",
       "      <td>204.24</td>\n",
       "      <td>&lt;rdkit.Chem.rdchem.Mol object at 0x00000255B86...</td>\n",
       "    </tr>\n",
       "    <tr>\n",
       "      <th>2</th>\n",
       "      <td>CC(CN)O</td>\n",
       "      <td>75.11</td>\n",
       "      <td>&lt;rdkit.Chem.rdchem.Mol object at 0x00000255B86...</td>\n",
       "    </tr>\n",
       "    <tr>\n",
       "      <th>3</th>\n",
       "      <td>C1=CC(=C(C=C1[N+](=O)[O-])[N+](=O)[O-])Cl</td>\n",
       "      <td>202.55</td>\n",
       "      <td>&lt;rdkit.Chem.rdchem.Mol object at 0x00000255B86...</td>\n",
       "    </tr>\n",
       "    <tr>\n",
       "      <th>4</th>\n",
       "      <td>CCN1C=NC2=C(N=CN=C21)N</td>\n",
       "      <td>163.18</td>\n",
       "      <td>&lt;rdkit.Chem.rdchem.Mol object at 0x00000255B86...</td>\n",
       "    </tr>\n",
       "    <tr>\n",
       "      <th>5</th>\n",
       "      <td>CCC(C)(C(C(=O)O)O)O</td>\n",
       "      <td>148.16</td>\n",
       "      <td>&lt;rdkit.Chem.rdchem.Mol object at 0x00000255B86...</td>\n",
       "    </tr>\n",
       "    <tr>\n",
       "      <th>6</th>\n",
       "      <td>C(CCl)Cl</td>\n",
       "      <td>98.96</td>\n",
       "      <td>&lt;rdkit.Chem.rdchem.Mol object at 0x00000255B86...</td>\n",
       "    </tr>\n",
       "    <tr>\n",
       "      <th>7</th>\n",
       "      <td>C1=CC(=C(C=C1Cl)Cl)Cl</td>\n",
       "      <td>181.40</td>\n",
       "      <td>&lt;rdkit.Chem.rdchem.Mol object at 0x00000255B86...</td>\n",
       "    </tr>\n",
       "    <tr>\n",
       "      <th>8</th>\n",
       "      <td>C1CCC(=O)NCCCCCC(=O)NCC1</td>\n",
       "      <td>226.32</td>\n",
       "      <td>&lt;rdkit.Chem.rdchem.Mol object at 0x00000255B86...</td>\n",
       "    </tr>\n",
       "    <tr>\n",
       "      <th>9</th>\n",
       "      <td>C1C=CC(=NC1C(=O)O)C(=O)O</td>\n",
       "      <td>169.13</td>\n",
       "      <td>&lt;rdkit.Chem.rdchem.Mol object at 0x00000255B86...</td>\n",
       "    </tr>\n",
       "  </tbody>\n",
       "</table>\n",
       "</div>"
      ],
      "text/plain": [
       "                                      smiles      mw  \\\n",
       "0           CC(=O)OC(CC(=O)[O-])C[N+](C)(C)C  203.24   \n",
       "1              CC(=O)OC(CC(=O)O)C[N+](C)(C)C  204.24   \n",
       "2                                    CC(CN)O   75.11   \n",
       "3  C1=CC(=C(C=C1[N+](=O)[O-])[N+](=O)[O-])Cl  202.55   \n",
       "4                     CCN1C=NC2=C(N=CN=C21)N  163.18   \n",
       "5                        CCC(C)(C(C(=O)O)O)O  148.16   \n",
       "6                                   C(CCl)Cl   98.96   \n",
       "7                      C1=CC(=C(C=C1Cl)Cl)Cl  181.40   \n",
       "8                   C1CCC(=O)NCCCCCC(=O)NCC1  226.32   \n",
       "9                   C1C=CC(=NC1C(=O)O)C(=O)O  169.13   \n",
       "\n",
       "                                                 mol  \n",
       "0  <rdkit.Chem.rdchem.Mol object at 0x00000255B86...  \n",
       "1  <rdkit.Chem.rdchem.Mol object at 0x00000255B86...  \n",
       "2  <rdkit.Chem.rdchem.Mol object at 0x00000255B86...  \n",
       "3  <rdkit.Chem.rdchem.Mol object at 0x00000255B86...  \n",
       "4  <rdkit.Chem.rdchem.Mol object at 0x00000255B86...  \n",
       "5  <rdkit.Chem.rdchem.Mol object at 0x00000255B86...  \n",
       "6  <rdkit.Chem.rdchem.Mol object at 0x00000255B86...  \n",
       "7  <rdkit.Chem.rdchem.Mol object at 0x00000255B86...  \n",
       "8  <rdkit.Chem.rdchem.Mol object at 0x00000255B86...  \n",
       "9  <rdkit.Chem.rdchem.Mol object at 0x00000255B86...  "
      ]
     },
     "execution_count": 8,
     "metadata": {},
     "output_type": "execute_result"
    }
   ],
   "source": [
    "df.dropna(ignore_index=True, inplace=True)\n",
    "df"
   ]
  },
  {
   "cell_type": "markdown",
   "id": "3cc9bc86-8da6-4f5c-9ddd-b69b8d45d8ae",
   "metadata": {},
   "source": [
    "***\n",
    "\n",
    "# Adicionando/removendo hidrogênios"
   ]
  },
  {
   "cell_type": "code",
   "execution_count": 9,
   "id": "6e695ca4-bde2-4f3c-a02d-c879f088bfc3",
   "metadata": {},
   "outputs": [
    {
     "data": {
      "image/png": "[encoded data removed]",
      "text/plain": [
       "<rdkit.Chem.rdchem.Mol at 0x255b86f2ff0>"
      ]
     },
     "execution_count": 9,
     "metadata": {},
     "output_type": "execute_result"
    }
   ],
   "source": [
    "df['mol'].iloc[0]"
   ]
  },
  {
   "cell_type": "code",
   "execution_count": 10,
   "id": "daaf22e7-db43-4e8c-a828-fbb5fd3c0f9a",
   "metadata": {},
   "outputs": [
    {
     "data": {
      "image/png": "[encoded data removed]",
      "text/plain": [
       "<rdkit.Chem.rdchem.Mol at 0x255b86f3450>"
      ]
     },
     "execution_count": 10,
     "metadata": {},
     "output_type": "execute_result"
    }
   ],
   "source": [
    "mol_h = Chem.AddHs(df['mol'].iloc[0])\n",
    "mol_h"
   ]
  },
  {
   "cell_type": "code",
   "execution_count": 11,
   "id": "4c48ceb5-e0b3-49b1-aee2-779438f46ac2",
   "metadata": {},
   "outputs": [
    {
     "data": {
      "image/png": "[encoded data removed]",
      "text/plain": [
       "<rdkit.Chem.rdchem.Mol at 0x255b86f23b0>"
      ]
     },
     "execution_count": 11,
     "metadata": {},
     "output_type": "execute_result"
    }
   ],
   "source": [
    "mol_nh = Chem.RemoveHs(mol_h)\n",
    "mol_nh"
   ]
  },
  {
   "cell_type": "markdown",
   "id": "99fe3327-7aa1-4459-bfe2-530b69494e0f",
   "metadata": {},
   "source": [
    "***\n",
    "\n",
    "## Padronizando SMILES"
   ]
  },
  {
   "cell_type": "code",
   "execution_count": 12,
   "id": "7e52fdd7-6485-46a7-88ea-7329db4d3c84",
   "metadata": {},
   "outputs": [
    {
     "data": {
      "text/html": [
       "<div>\n",
       "<style scoped>\n",
       "    .dataframe tbody tr th:only-of-type {\n",
       "        vertical-align: middle;\n",
       "    }\n",
       "\n",
       "    .dataframe tbody tr th {\n",
       "        vertical-align: top;\n",
       "    }\n",
       "\n",
       "    .dataframe thead th {\n",
       "        text-align: right;\n",
       "    }\n",
       "</style>\n",
       "<table border=\"1\" class=\"dataframe\">\n",
       "  <thead>\n",
       "    <tr style=\"text-align: right;\">\n",
       "      <th></th>\n",
       "      <th>smiles</th>\n",
       "    </tr>\n",
       "  </thead>\n",
       "  <tbody>\n",
       "    <tr>\n",
       "      <th>0</th>\n",
       "      <td>c1ccccc1</td>\n",
       "    </tr>\n",
       "    <tr>\n",
       "      <th>1</th>\n",
       "      <td>C1=CC=CC=C1</td>\n",
       "    </tr>\n",
       "    <tr>\n",
       "      <th>2</th>\n",
       "      <td>c1ccc(cc1)</td>\n",
       "    </tr>\n",
       "  </tbody>\n",
       "</table>\n",
       "</div>"
      ],
      "text/plain": [
       "        smiles\n",
       "0     c1ccccc1\n",
       "1  C1=CC=CC=C1\n",
       "2   c1ccc(cc1)"
      ]
     },
     "execution_count": 12,
     "metadata": {},
     "output_type": "execute_result"
    }
   ],
   "source": [
    "smiles = pd.DataFrame(\n",
    "    {\n",
    "        'smiles' : ['c1ccccc1', 'C1=CC=CC=C1', 'c1ccc(cc1)']\n",
    "    }\n",
    ")\n",
    "\n",
    "smiles"
   ]
  },
  {
   "cell_type": "code",
   "execution_count": 13,
   "id": "acc2d330-4ac4-4b2f-9a35-8d0c1cee754f",
   "metadata": {},
   "outputs": [
    {
     "data": {
      "image/png": "[encoded data removed]",
      "text/plain": [
       "<IPython.core.display.Image object>"
      ]
     },
     "execution_count": 13,
     "metadata": {},
     "output_type": "execute_result"
    }
   ],
   "source": [
    "Draw.MolsToGridImage(\n",
    "    [Chem.MolFromSmiles(mol) for mol in smiles['smiles']],\n",
    "    molsPerRow=5,\n",
    "    legends=[smiles for smiles in smiles['smiles']],\n",
    "    subImgSize=(200,200)\n",
    ")"
   ]
  },
  {
   "cell_type": "code",
   "execution_count": 14,
   "id": "e9bdfb55-230a-448f-9739-c31aa4ebc2e5",
   "metadata": {},
   "outputs": [
    {
     "data": {
      "text/html": [
       "<div>\n",
       "<style scoped>\n",
       "    .dataframe tbody tr th:only-of-type {\n",
       "        vertical-align: middle;\n",
       "    }\n",
       "\n",
       "    .dataframe tbody tr th {\n",
       "        vertical-align: top;\n",
       "    }\n",
       "\n",
       "    .dataframe thead th {\n",
       "        text-align: right;\n",
       "    }\n",
       "</style>\n",
       "<table border=\"1\" class=\"dataframe\">\n",
       "  <thead>\n",
       "    <tr style=\"text-align: right;\">\n",
       "      <th></th>\n",
       "      <th>smiles</th>\n",
       "      <th>canonical</th>\n",
       "    </tr>\n",
       "  </thead>\n",
       "  <tbody>\n",
       "    <tr>\n",
       "      <th>0</th>\n",
       "      <td>c1ccccc1</td>\n",
       "      <td>c1ccccc1</td>\n",
       "    </tr>\n",
       "    <tr>\n",
       "      <th>1</th>\n",
       "      <td>C1=CC=CC=C1</td>\n",
       "      <td>c1ccccc1</td>\n",
       "    </tr>\n",
       "    <tr>\n",
       "      <th>2</th>\n",
       "      <td>c1ccc(cc1)</td>\n",
       "      <td>c1ccccc1</td>\n",
       "    </tr>\n",
       "  </tbody>\n",
       "</table>\n",
       "</div>"
      ],
      "text/plain": [
       "        smiles canonical\n",
       "0     c1ccccc1  c1ccccc1\n",
       "1  C1=CC=CC=C1  c1ccccc1\n",
       "2   c1ccc(cc1)  c1ccccc1"
      ]
     },
     "execution_count": 14,
     "metadata": {},
     "output_type": "execute_result"
    }
   ],
   "source": [
    "def canonical_smiles(smiles: str):\n",
    "    mol = Chem.MolFromSmiles(smiles)\n",
    "    return Chem.MolToSmiles(mol, canonical=True)\n",
    "\n",
    "smiles['canonical'] = smiles['smiles'].apply(canonical_smiles)\n",
    "smiles"
   ]
  },
  {
   "cell_type": "code",
   "execution_count": 17,
   "id": "22ebd3ad-45a0-4826-b0ab-cf67fa39af7f",
   "metadata": {},
   "outputs": [
    {
     "data": {
      "text/html": [
       "<div>\n",
       "<style scoped>\n",
       "    .dataframe tbody tr th:only-of-type {\n",
       "        vertical-align: middle;\n",
       "    }\n",
       "\n",
       "    .dataframe tbody tr th {\n",
       "        vertical-align: top;\n",
       "    }\n",
       "\n",
       "    .dataframe thead th {\n",
       "        text-align: right;\n",
       "    }\n",
       "</style>\n",
       "<table border=\"1\" class=\"dataframe\">\n",
       "  <thead>\n",
       "    <tr style=\"text-align: right;\">\n",
       "      <th></th>\n",
       "      <th>smiles</th>\n",
       "      <th>canonical</th>\n",
       "    </tr>\n",
       "  </thead>\n",
       "  <tbody>\n",
       "    <tr>\n",
       "      <th>0</th>\n",
       "      <td>c1ccccc1</td>\n",
       "      <td>c1ccccc1</td>\n",
       "    </tr>\n",
       "  </tbody>\n",
       "</table>\n",
       "</div>"
      ],
      "text/plain": [
       "     smiles canonical\n",
       "0  c1ccccc1  c1ccccc1"
      ]
     },
     "execution_count": 17,
     "metadata": {},
     "output_type": "execute_result"
    }
   ],
   "source": [
    "smiles = smiles.drop_duplicates(subset=['canonical'])\n",
    "smiles"
   ]
  }
 ],
 "metadata": {
  "kernelspec": {
   "display_name": "Python 3 (ipykernel)",
   "language": "python",
   "name": "python3"
  },
  "language_info": {
   "codemirror_mode": {
    "name": "ipython",
    "version": 3
   },
   "file_extension": ".py",
   "mimetype": "text/x-python",
   "name": "python",
   "nbconvert_exporter": "python",
   "pygments_lexer": "ipython3",
   "version": "3.12.4"
  }
 },
 "nbformat": 4,
 "nbformat_minor": 5
}
